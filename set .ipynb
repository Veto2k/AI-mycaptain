{
 "cells": [
  {
   "cell_type": "code",
   "execution_count": 22,
   "id": "98ebcab9",
   "metadata": {},
   "outputs": [
    {
     "name": "stdout",
     "output_type": "stream",
     "text": [
      "the values in list one 4\n",
      "the values in list two 4\n",
      "entering in first list 1\n",
      "entering in first list 3\n",
      "entering in first list 5\n",
      "entering in first list 7\n",
      "entering in second list 2\n",
      "entering in second list 4\n",
      "entering in second list 5\n",
      "entering in second list 6\n",
      "The difference in the set\n",
      "{'7', '1', '3'}\n",
      "The union in the set\n",
      "{'5'}\n",
      "{'4', '2', '1', '6', '7', '3'}\n",
      "{'4', '1', '2', '6', '7', '5', '3'}\n",
      "None\n"
     ]
    }
   ],
   "source": [
    "n = int(input(\"the values in list one \"))\n",
    "m = int(input(\"the values in list two \"))\n",
    "s1 = {\"0\"}\n",
    "s2 = {\"0\"}\n",
    "s1.clear()\n",
    "s2.clear()\n",
    "for x in range(0,n):\n",
    "    a=input(\"entering in first list \")\n",
    "    s1.add(a)\n",
    "for x in range(0,m):\n",
    "    a=input(\"entering in second list \")\n",
    "    s2.add(a)\n",
    "print(\"The difference in the set\")\n",
    "print(s1.difference(s2))\n",
    "print(\"The union in the set\")\n",
    "print(s1.intersection(s2))\n",
    "print(s1.symmetric_difference(s2))\n",
    "print(s1.union(s2))\n",
    "print(s1.difference_update(s2))"
   ]
  },
  {
   "cell_type": "code",
   "execution_count": 15,
   "id": "901bf079",
   "metadata": {
    "scrolled": true
   },
   "outputs": [
    {
     "name": "stdout",
     "output_type": "stream",
     "text": [
      "{1, '1', '2', '3'}\n"
     ]
    }
   ],
   "source": [
    "set={\"1\",\"2\",\"3\"}\n",
    "set.add(1)\n",
    "print(set)"
   ]
  },
  {
   "cell_type": "code",
   "execution_count": null,
   "id": "687f6047",
   "metadata": {},
   "outputs": [],
   "source": []
  }
 ],
 "metadata": {
  "kernelspec": {
   "display_name": "Python 3 (ipykernel)",
   "language": "python",
   "name": "python3"
  },
  "language_info": {
   "codemirror_mode": {
    "name": "ipython",
    "version": 3
   },
   "file_extension": ".py",
   "mimetype": "text/x-python",
   "name": "python",
   "nbconvert_exporter": "python",
   "pygments_lexer": "ipython3",
   "version": "3.9.7"
  }
 },
 "nbformat": 4,
 "nbformat_minor": 5
}
