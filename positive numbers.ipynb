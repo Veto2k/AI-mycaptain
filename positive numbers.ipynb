{
 "cells": [
  {
   "cell_type": "code",
   "execution_count": 1,
   "id": "ee681313",
   "metadata": {},
   "outputs": [
    {
     "name": "stdout",
     "output_type": "stream",
     "text": [
      "number of variable 7\n",
      "Enter the list 3\n",
      "Enter the list -2\n",
      "Enter the list 7\n",
      "Enter the list -21\n",
      "Enter the list 10\n",
      "Enter the list -1\n",
      "Enter the list 0\n",
      "[3, 7, 10, 0]\n"
     ]
    }
   ],
   "source": [
    "num=int(input(\"number of variable \"))\n",
    "list=[]\n",
    "list.clear()\n",
    "a=0\n",
    "for x in range (0,num):\n",
    "    i=int(input(\"Enter the list \"))\n",
    "    if i>=0:\n",
    "        list.insert(a,i)\n",
    "        a=a+1\n",
    "print(list)"
   ]
  },
  {
   "cell_type": "code",
   "execution_count": null,
   "id": "f3ee6c2c",
   "metadata": {},
   "outputs": [],
   "source": []
  }
 ],
 "metadata": {
  "kernelspec": {
   "display_name": "Python 3 (ipykernel)",
   "language": "python",
   "name": "python3"
  },
  "language_info": {
   "codemirror_mode": {
    "name": "ipython",
    "version": 3
   },
   "file_extension": ".py",
   "mimetype": "text/x-python",
   "name": "python",
   "nbconvert_exporter": "python",
   "pygments_lexer": "ipython3",
   "version": "3.9.7"
  }
 },
 "nbformat": 4,
 "nbformat_minor": 5
}
